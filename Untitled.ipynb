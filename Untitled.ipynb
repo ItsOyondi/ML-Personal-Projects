{
 "cells": [
  {
   "cell_type": "code",
   "execution_count": 22,
   "id": "8368fb88",
   "metadata": {},
   "outputs": [],
   "source": [
    "import numpy as np\n",
    "import pandas as pd\n",
    "import datetime as dt\n",
    "import pandas_datareader as pdr\n",
    "import matplotlib.pyplot as plt"
   ]
  },
  {
   "cell_type": "code",
   "execution_count": 11,
   "id": "40c3f6f9",
   "metadata": {},
   "outputs": [],
   "source": [
    "stocks = 'GOOG SPY'.split()\n",
    "start = dt.date.today() - dt.timedelta(365)\n",
    "\n"
   ]
  },
  {
   "cell_type": "code",
   "execution_count": 30,
   "id": "e2e323a7",
   "metadata": {},
   "outputs": [],
   "source": [
    "# data = pdr.get_data_yahoo(stocks, start)['Close']\n",
    "# data.head()"
   ]
  },
  {
   "cell_type": "code",
   "execution_count": 19,
   "id": "72c814b2",
   "metadata": {},
   "outputs": [
    {
     "name": "stderr",
     "output_type": "stream",
     "text": [
      "C:\\Users\\The Oyondi\\AppData\\Local\\Temp\\ipykernel_112732\\4178545021.py:1: DtypeWarning: Columns (7,8,18,25) have mixed types. Specify dtype option on import or set low_memory=False.\n",
      "  df = pd.read_csv('data/Summary of Weather.csv')\n"
     ]
    },
    {
     "data": {
      "text/html": [
       "<div>\n",
       "<style scoped>\n",
       "    .dataframe tbody tr th:only-of-type {\n",
       "        vertical-align: middle;\n",
       "    }\n",
       "\n",
       "    .dataframe tbody tr th {\n",
       "        vertical-align: top;\n",
       "    }\n",
       "\n",
       "    .dataframe thead th {\n",
       "        text-align: right;\n",
       "    }\n",
       "</style>\n",
       "<table border=\"1\" class=\"dataframe\">\n",
       "  <thead>\n",
       "    <tr style=\"text-align: right;\">\n",
       "      <th></th>\n",
       "      <th>Date</th>\n",
       "      <th>Precip</th>\n",
       "      <th>WindGustSpd</th>\n",
       "      <th>MaxTemp</th>\n",
       "      <th>MinTemp</th>\n",
       "      <th>MeanTemp</th>\n",
       "      <th>Snowfall</th>\n",
       "    </tr>\n",
       "  </thead>\n",
       "  <tbody>\n",
       "    <tr>\n",
       "      <th>0</th>\n",
       "      <td>1942-7-1</td>\n",
       "      <td>1.016</td>\n",
       "      <td>NaN</td>\n",
       "      <td>25.555556</td>\n",
       "      <td>22.222222</td>\n",
       "      <td>23.888889</td>\n",
       "      <td>0.0</td>\n",
       "    </tr>\n",
       "    <tr>\n",
       "      <th>1</th>\n",
       "      <td>1942-7-2</td>\n",
       "      <td>0</td>\n",
       "      <td>NaN</td>\n",
       "      <td>28.888889</td>\n",
       "      <td>21.666667</td>\n",
       "      <td>25.555556</td>\n",
       "      <td>0.0</td>\n",
       "    </tr>\n",
       "    <tr>\n",
       "      <th>2</th>\n",
       "      <td>1942-7-3</td>\n",
       "      <td>2.54</td>\n",
       "      <td>NaN</td>\n",
       "      <td>26.111111</td>\n",
       "      <td>22.222222</td>\n",
       "      <td>24.444444</td>\n",
       "      <td>0.0</td>\n",
       "    </tr>\n",
       "    <tr>\n",
       "      <th>3</th>\n",
       "      <td>1942-7-4</td>\n",
       "      <td>2.54</td>\n",
       "      <td>NaN</td>\n",
       "      <td>26.666667</td>\n",
       "      <td>22.222222</td>\n",
       "      <td>24.444444</td>\n",
       "      <td>0.0</td>\n",
       "    </tr>\n",
       "    <tr>\n",
       "      <th>4</th>\n",
       "      <td>1942-7-5</td>\n",
       "      <td>0</td>\n",
       "      <td>NaN</td>\n",
       "      <td>26.666667</td>\n",
       "      <td>21.666667</td>\n",
       "      <td>24.444444</td>\n",
       "      <td>0.0</td>\n",
       "    </tr>\n",
       "  </tbody>\n",
       "</table>\n",
       "</div>"
      ],
      "text/plain": [
       "       Date Precip  WindGustSpd    MaxTemp    MinTemp   MeanTemp Snowfall\n",
       "0  1942-7-1  1.016          NaN  25.555556  22.222222  23.888889      0.0\n",
       "1  1942-7-2      0          NaN  28.888889  21.666667  25.555556      0.0\n",
       "2  1942-7-3   2.54          NaN  26.111111  22.222222  24.444444      0.0\n",
       "3  1942-7-4   2.54          NaN  26.666667  22.222222  24.444444      0.0\n",
       "4  1942-7-5      0          NaN  26.666667  21.666667  24.444444      0.0"
      ]
     },
     "execution_count": 19,
     "metadata": {},
     "output_type": "execute_result"
    }
   ],
   "source": [
    "df = pd.read_csv('data/Summary of Weather.csv')\n",
    "df = df[['Date','Precip','WindGustSpd','MaxTemp','MinTemp','MeanTemp','Snowfall']]\n",
    "df.head()"
   ]
  },
  {
   "cell_type": "code",
   "execution_count": 28,
   "id": "56f46fda",
   "metadata": {},
   "outputs": [
    {
     "data": {
      "text/plain": [
       "<matplotlib.collections.PathCollection at 0x182268667c0>"
      ]
     },
     "execution_count": 28,
     "metadata": {},
     "output_type": "execute_result"
    },
    {
     "data": {
      "image/png": "[encoded data removed]",
      "text/plain": [
       "<Figure size 432x288 with 1 Axes>"
      ]
     },
     "metadata": {
      "needs_background": "light"
     },
     "output_type": "display_data"
    }
   ],
   "source": [
    "sample = df.sample(100)\n",
    "plt.scatter(sample['Snowfall'], sample['MinTemp'])"
   ]
  },
  {
   "cell_type": "code",
   "execution_count": 34,
   "id": "be5c0837",
   "metadata": {},
   "outputs": [
    {
     "name": "stderr",
     "output_type": "stream",
     "text": [
      "C:\\Users\\The Oyondi\\AppData\\Local\\Temp\\ipykernel_112732\\3390984578.py:1: DtypeWarning: Columns (47,73) have mixed types. Specify dtype option on import or set low_memory=False.\n",
      "  df1 = pd.read_csv('data/bottle.csv')\n"
     ]
    },
    {
     "data": {
      "text/html": [
       "<div>\n",
       "<style scoped>\n",
       "    .dataframe tbody tr th:only-of-type {\n",
       "        vertical-align: middle;\n",
       "    }\n",
       "\n",
       "    .dataframe tbody tr th {\n",
       "        vertical-align: top;\n",
       "    }\n",
       "\n",
       "    .dataframe thead th {\n",
       "        text-align: right;\n",
       "    }\n",
       "</style>\n",
       "<table border=\"1\" class=\"dataframe\">\n",
       "  <thead>\n",
       "    <tr style=\"text-align: right;\">\n",
       "      <th></th>\n",
       "      <th>Cst_Cnt</th>\n",
       "      <th>Btl_Cnt</th>\n",
       "      <th>Sta_ID</th>\n",
       "      <th>Depth_ID</th>\n",
       "      <th>Depthm</th>\n",
       "      <th>T_degC</th>\n",
       "      <th>Salnty</th>\n",
       "      <th>O2ml_L</th>\n",
       "      <th>STheta</th>\n",
       "      <th>O2Sat</th>\n",
       "      <th>...</th>\n",
       "      <th>R_PHAEO</th>\n",
       "      <th>R_PRES</th>\n",
       "      <th>R_SAMP</th>\n",
       "      <th>DIC1</th>\n",
       "      <th>DIC2</th>\n",
       "      <th>TA1</th>\n",
       "      <th>TA2</th>\n",
       "      <th>pH2</th>\n",
       "      <th>pH1</th>\n",
       "      <th>DIC Quality Comment</th>\n",
       "    </tr>\n",
       "  </thead>\n",
       "  <tbody>\n",
       "    <tr>\n",
       "      <th>0</th>\n",
       "      <td>1</td>\n",
       "      <td>1</td>\n",
       "      <td>054.0 056.0</td>\n",
       "      <td>19-4903CR-HY-060-0930-05400560-0000A-3</td>\n",
       "      <td>0</td>\n",
       "      <td>10.50</td>\n",
       "      <td>33.440</td>\n",
       "      <td>NaN</td>\n",
       "      <td>25.649</td>\n",
       "      <td>NaN</td>\n",
       "      <td>...</td>\n",
       "      <td>NaN</td>\n",
       "      <td>0</td>\n",
       "      <td>NaN</td>\n",
       "      <td>NaN</td>\n",
       "      <td>NaN</td>\n",
       "      <td>NaN</td>\n",
       "      <td>NaN</td>\n",
       "      <td>NaN</td>\n",
       "      <td>NaN</td>\n",
       "      <td>NaN</td>\n",
       "    </tr>\n",
       "    <tr>\n",
       "      <th>1</th>\n",
       "      <td>1</td>\n",
       "      <td>2</td>\n",
       "      <td>054.0 056.0</td>\n",
       "      <td>19-4903CR-HY-060-0930-05400560-0008A-3</td>\n",
       "      <td>8</td>\n",
       "      <td>10.46</td>\n",
       "      <td>33.440</td>\n",
       "      <td>NaN</td>\n",
       "      <td>25.656</td>\n",
       "      <td>NaN</td>\n",
       "      <td>...</td>\n",
       "      <td>NaN</td>\n",
       "      <td>8</td>\n",
       "      <td>NaN</td>\n",
       "      <td>NaN</td>\n",
       "      <td>NaN</td>\n",
       "      <td>NaN</td>\n",
       "      <td>NaN</td>\n",
       "      <td>NaN</td>\n",
       "      <td>NaN</td>\n",
       "      <td>NaN</td>\n",
       "    </tr>\n",
       "    <tr>\n",
       "      <th>2</th>\n",
       "      <td>1</td>\n",
       "      <td>3</td>\n",
       "      <td>054.0 056.0</td>\n",
       "      <td>19-4903CR-HY-060-0930-05400560-0010A-7</td>\n",
       "      <td>10</td>\n",
       "      <td>10.46</td>\n",
       "      <td>33.437</td>\n",
       "      <td>NaN</td>\n",
       "      <td>25.654</td>\n",
       "      <td>NaN</td>\n",
       "      <td>...</td>\n",
       "      <td>NaN</td>\n",
       "      <td>10</td>\n",
       "      <td>NaN</td>\n",
       "      <td>NaN</td>\n",
       "      <td>NaN</td>\n",
       "      <td>NaN</td>\n",
       "      <td>NaN</td>\n",
       "      <td>NaN</td>\n",
       "      <td>NaN</td>\n",
       "      <td>NaN</td>\n",
       "    </tr>\n",
       "    <tr>\n",
       "      <th>3</th>\n",
       "      <td>1</td>\n",
       "      <td>4</td>\n",
       "      <td>054.0 056.0</td>\n",
       "      <td>19-4903CR-HY-060-0930-05400560-0019A-3</td>\n",
       "      <td>19</td>\n",
       "      <td>10.45</td>\n",
       "      <td>33.420</td>\n",
       "      <td>NaN</td>\n",
       "      <td>25.643</td>\n",
       "      <td>NaN</td>\n",
       "      <td>...</td>\n",
       "      <td>NaN</td>\n",
       "      <td>19</td>\n",
       "      <td>NaN</td>\n",
       "      <td>NaN</td>\n",
       "      <td>NaN</td>\n",
       "      <td>NaN</td>\n",
       "      <td>NaN</td>\n",
       "      <td>NaN</td>\n",
       "      <td>NaN</td>\n",
       "      <td>NaN</td>\n",
       "    </tr>\n",
       "    <tr>\n",
       "      <th>4</th>\n",
       "      <td>1</td>\n",
       "      <td>5</td>\n",
       "      <td>054.0 056.0</td>\n",
       "      <td>19-4903CR-HY-060-0930-05400560-0020A-7</td>\n",
       "      <td>20</td>\n",
       "      <td>10.45</td>\n",
       "      <td>33.421</td>\n",
       "      <td>NaN</td>\n",
       "      <td>25.643</td>\n",
       "      <td>NaN</td>\n",
       "      <td>...</td>\n",
       "      <td>NaN</td>\n",
       "      <td>20</td>\n",
       "      <td>NaN</td>\n",
       "      <td>NaN</td>\n",
       "      <td>NaN</td>\n",
       "      <td>NaN</td>\n",
       "      <td>NaN</td>\n",
       "      <td>NaN</td>\n",
       "      <td>NaN</td>\n",
       "      <td>NaN</td>\n",
       "    </tr>\n",
       "  </tbody>\n",
       "</table>\n",
       "<p>5 rows × 74 columns</p>\n",
       "</div>"
      ],
      "text/plain": [
       "   Cst_Cnt  Btl_Cnt       Sta_ID                                Depth_ID  \\\n",
       "0        1        1  054.0 056.0  19-4903CR-HY-060-0930-05400560-0000A-3   \n",
       "1        1        2  054.0 056.0  19-4903CR-HY-060-0930-05400560-0008A-3   \n",
       "2        1        3  054.0 056.0  19-4903CR-HY-060-0930-05400560-0010A-7   \n",
       "3        1        4  054.0 056.0  19-4903CR-HY-060-0930-05400560-0019A-3   \n",
       "4        1        5  054.0 056.0  19-4903CR-HY-060-0930-05400560-0020A-7   \n",
       "\n",
       "   Depthm  T_degC  Salnty  O2ml_L  STheta  O2Sat  ...  R_PHAEO  R_PRES  \\\n",
       "0       0   10.50  33.440     NaN  25.649    NaN  ...      NaN       0   \n",
       "1       8   10.46  33.440     NaN  25.656    NaN  ...      NaN       8   \n",
       "2      10   10.46  33.437     NaN  25.654    NaN  ...      NaN      10   \n",
       "3      19   10.45  33.420     NaN  25.643    NaN  ...      NaN      19   \n",
       "4      20   10.45  33.421     NaN  25.643    NaN  ...      NaN      20   \n",
       "\n",
       "   R_SAMP  DIC1  DIC2  TA1  TA2  pH2  pH1  DIC Quality Comment  \n",
       "0     NaN   NaN   NaN  NaN  NaN  NaN  NaN                  NaN  \n",
       "1     NaN   NaN   NaN  NaN  NaN  NaN  NaN                  NaN  \n",
       "2     NaN   NaN   NaN  NaN  NaN  NaN  NaN                  NaN  \n",
       "3     NaN   NaN   NaN  NaN  NaN  NaN  NaN                  NaN  \n",
       "4     NaN   NaN   NaN  NaN  NaN  NaN  NaN                  NaN  \n",
       "\n",
       "[5 rows x 74 columns]"
      ]
     },
     "execution_count": 34,
     "metadata": {},
     "output_type": "execute_result"
    }
   ],
   "source": [
    "df1 = pd.read_csv('data/bottle.csv')\n",
    "df1.head()"
   ]
  },
  {
   "cell_type": "code",
   "execution_count": 39,
   "id": "0c8d9c3c",
   "metadata": {},
   "outputs": [
    {
     "data": {
      "text/html": [
       "<div>\n",
       "<style scoped>\n",
       "    .dataframe tbody tr th:only-of-type {\n",
       "        vertical-align: middle;\n",
       "    }\n",
       "\n",
       "    .dataframe tbody tr th {\n",
       "        vertical-align: top;\n",
       "    }\n",
       "\n",
       "    .dataframe thead th {\n",
       "        text-align: right;\n",
       "    }\n",
       "</style>\n",
       "<table border=\"1\" class=\"dataframe\">\n",
       "  <thead>\n",
       "    <tr style=\"text-align: right;\">\n",
       "      <th></th>\n",
       "      <th>R_SALINITY</th>\n",
       "      <th>R_O2</th>\n",
       "      <th>R_TEMP</th>\n",
       "      <th>R_Depth</th>\n",
       "      <th>pH2</th>\n",
       "      <th>pH1</th>\n",
       "    </tr>\n",
       "  </thead>\n",
       "  <tbody>\n",
       "    <tr>\n",
       "      <th>R_SALINITY</th>\n",
       "      <td>1.000000</td>\n",
       "      <td>-0.821230</td>\n",
       "      <td>-0.503961</td>\n",
       "      <td>0.571184</td>\n",
       "      <td>0.583260</td>\n",
       "      <td>0.106173</td>\n",
       "    </tr>\n",
       "    <tr>\n",
       "      <th>R_O2</th>\n",
       "      <td>-0.821230</td>\n",
       "      <td>1.000000</td>\n",
       "      <td>0.795701</td>\n",
       "      <td>-0.592399</td>\n",
       "      <td>0.171664</td>\n",
       "      <td>0.663338</td>\n",
       "    </tr>\n",
       "    <tr>\n",
       "      <th>R_TEMP</th>\n",
       "      <td>-0.503961</td>\n",
       "      <td>0.795701</td>\n",
       "      <td>1.000000</td>\n",
       "      <td>-0.681200</td>\n",
       "      <td>0.546696</td>\n",
       "      <td>0.743769</td>\n",
       "    </tr>\n",
       "    <tr>\n",
       "      <th>R_Depth</th>\n",
       "      <td>0.571184</td>\n",
       "      <td>-0.592399</td>\n",
       "      <td>-0.681200</td>\n",
       "      <td>1.000000</td>\n",
       "      <td>0.223304</td>\n",
       "      <td>-0.611798</td>\n",
       "    </tr>\n",
       "    <tr>\n",
       "      <th>pH2</th>\n",
       "      <td>0.583260</td>\n",
       "      <td>0.171664</td>\n",
       "      <td>0.546696</td>\n",
       "      <td>0.223304</td>\n",
       "      <td>1.000000</td>\n",
       "      <td>0.995913</td>\n",
       "    </tr>\n",
       "    <tr>\n",
       "      <th>pH1</th>\n",
       "      <td>0.106173</td>\n",
       "      <td>0.663338</td>\n",
       "      <td>0.743769</td>\n",
       "      <td>-0.611798</td>\n",
       "      <td>0.995913</td>\n",
       "      <td>1.000000</td>\n",
       "    </tr>\n",
       "  </tbody>\n",
       "</table>\n",
       "</div>"
      ],
      "text/plain": [
       "            R_SALINITY      R_O2    R_TEMP   R_Depth       pH2       pH1\n",
       "R_SALINITY    1.000000 -0.821230 -0.503961  0.571184  0.583260  0.106173\n",
       "R_O2         -0.821230  1.000000  0.795701 -0.592399  0.171664  0.663338\n",
       "R_TEMP       -0.503961  0.795701  1.000000 -0.681200  0.546696  0.743769\n",
       "R_Depth       0.571184 -0.592399 -0.681200  1.000000  0.223304 -0.611798\n",
       "pH2           0.583260  0.171664  0.546696  0.223304  1.000000  0.995913\n",
       "pH1           0.106173  0.663338  0.743769 -0.611798  0.995913  1.000000"
      ]
     },
     "execution_count": 39,
     "metadata": {},
     "output_type": "execute_result"
    }
   ],
   "source": [
    "df2 = df1[['R_SALINITY','R_O2','R_TEMP','R_Depth','pH2', 'pH1',]]\n",
    "df2.corr()"
   ]
  },
  {
   "cell_type": "code",
   "execution_count": 49,
   "id": "aa1afbcb",
   "metadata": {},
   "outputs": [
    {
     "data": {
      "text/plain": [
       "<matplotlib.collections.PathCollection at 0x18227296e20>"
      ]
     },
     "execution_count": 49,
     "metadata": {},
     "output_type": "execute_result"
    },
    {
     "data": {
      "image/png": "[encoded data removed]",
      "text/plain": [
       "<Figure size 432x288 with 1 Axes>"
      ]
     },
     "metadata": {
      "needs_background": "light"
     },
     "output_type": "display_data"
    }
   ],
   "source": [
    "sample1 = df2[:200]\n",
    "plt.scatter(sample1['R_TEMP'], sample1['R_SALINITY'])"
   ]
  },
  {
   "cell_type": "code",
   "execution_count": 75,
   "id": "ee46f88c",
   "metadata": {},
   "outputs": [
    {
     "data": {
      "text/plain": [
       "0      33.440\n",
       "1      33.440\n",
       "2      33.437\n",
       "3      33.420\n",
       "4      33.421\n",
       "        ...  \n",
       "195    33.383\n",
       "196    33.400\n",
       "197    33.420\n",
       "198    33.440\n",
       "199    33.518\n",
       "Name: R_SALINITY, Length: 200, dtype: float64"
      ]
     },
     "execution_count": 75,
     "metadata": {},
     "output_type": "execute_result"
    }
   ],
   "source": [
    "X = sample1.drop(columns='R_SALINITY')\n",
    "y = sample1['R_SALINITY']\n",
    "\n",
    "X = X.applymap(lambda x: 0 if pd.isna(x) else x)\n",
    "y = y.apply(lambda x: 0 if pd.isna(x) else x) #data series\n",
    "y"
   ]
  },
  {
   "cell_type": "code",
   "execution_count": 67,
   "id": "d572af94",
   "metadata": {},
   "outputs": [],
   "source": [
    "from sklearn.linear_model import LinearRegression\n",
    "from sklearn.model_selection import train_test_split\n",
    "from sklearn.metrics import mean_squared_error, r2_score"
   ]
  },
  {
   "cell_type": "code",
   "execution_count": 77,
   "id": "f960bafd",
   "metadata": {},
   "outputs": [
    {
     "name": "stdout",
     "output_type": "stream",
     "text": [
      "     y_test     y_pred\n",
      "1    33.440  32.489140\n",
      "2    33.437  32.490747\n",
      "188  33.068  32.130311\n",
      "94   32.694  32.535651\n",
      "16   33.876  32.976720\n",
      "132  32.740  32.741823\n",
      "180  34.385  34.721384\n",
      "99   32.699  32.650687\n",
      "18   33.926  33.063522\n",
      "161  33.425  32.864653\n",
      "182  34.420  34.895314\n",
      "74   33.398  32.871561\n",
      "58   34.403  34.589231\n",
      "57   34.378  34.467441\n",
      "197  33.420  32.537594\n",
      "185  33.212  32.110788\n",
      "33   33.013  32.669160\n",
      "148  34.250  34.187707\n",
      "5    33.431  32.508542\n",
      "166  33.916  33.284588\n",
      "140  33.938  33.284588\n",
      "114  34.000  33.796795\n",
      "92   32.680  32.493075\n",
      "107  33.840  33.008246\n",
      "194  33.283  32.207274\n",
      "113  33.955  33.610622\n",
      "81   34.041  33.653799\n",
      "129   0.000  32.557343\n",
      "97   32.641  32.574171\n",
      "32   32.950  32.634980\n",
      "48   34.000  33.626565\n",
      "37   33.488  32.824482\n",
      "91   34.450  34.621728\n",
      "198  33.440  32.746975\n",
      "190  33.159  32.146379\n",
      "79   33.930  33.404806\n",
      "131  32.740  32.658158\n",
      "163  33.638  33.009088\n",
      "142  33.988  33.400750\n",
      "19   33.980  33.143453\n"
     ]
    }
   ],
   "source": [
    "X_train, X_test, y_train,y_test = train_test_split(X, y, test_size=0.2)\n",
    "model = LinearRegression()\n",
    "model.fit(X_train, y_train)\n",
    "\n",
    "y_pred = model.predict(X_test)\n",
    "results = pd.DataFrame({'y_test': y_test, 'y_pred': y_pred.flatten()})\n",
    "\n",
    "print(results)"
   ]
  },
  {
   "cell_type": "code",
   "execution_count": 78,
   "id": "52c4ce15",
   "metadata": {},
   "outputs": [
    {
     "name": "stdout",
     "output_type": "stream",
     "text": [
      "0.03252316686844203\n"
     ]
    }
   ],
   "source": [
    "r2 = r2_score(y_test, y_pred)\n",
    "print(r2)"
   ]
  },
  {
   "cell_type": "code",
   "execution_count": null,
   "id": "a5d4e21e",
   "metadata": {},
   "outputs": [],
   "source": []
  },
  {
   "cell_type": "code",
   "execution_count": null,
   "id": "29925083",
   "metadata": {},
   "outputs": [],
   "source": []
  }
 ],
 "metadata": {
  "kernelspec": {
   "display_name": "Python 3 (ipykernel)",
   "language": "python",
   "name": "python3"
  },
  "language_info": {
   "codemirror_mode": {
    "name": "ipython",
    "version": 3
   },
   "file_extension": ".py",
   "mimetype": "text/x-python",
   "name": "python",
   "nbconvert_exporter": "python",
   "pygments_lexer": "ipython3",
   "version": "3.9.12"
  }
 },
 "nbformat": 4,
 "nbformat_minor": 5
}
